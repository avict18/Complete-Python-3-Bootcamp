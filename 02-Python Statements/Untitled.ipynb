{
 "cells": [
  {
   "cell_type": "markdown",
   "id": "5770ac05",
   "metadata": {},
   "source": [
    "# For Loops"
   ]
  },
  {
   "cell_type": "code",
   "execution_count": 27,
   "id": "fb4cbc09",
   "metadata": {},
   "outputs": [
    {
     "name": "stdout",
     "output_type": "stream",
     "text": [
      "Please write the word!\n",
      "NB:The spaces are counted: abracadabra\n"
     ]
    }
   ],
   "source": [
    "# This program changes all letters in even positions to uppercase.\n",
    "word = input('Please write the word!\\nNB:The spaces are counted: ')\n",
    "new_word = ''\n",
    "for index in range(len(word)):\n",
    "    if index % 2 == 0:\n",
    "        new_word += word[index].upper()\n",
    "    else:\n",
    "        new_word += word[index]"
   ]
  },
  {
   "cell_type": "code",
   "execution_count": 28,
   "id": "90509005",
   "metadata": {},
   "outputs": [
    {
     "data": {
      "text/plain": [
       "'AbRaCaDaBrA'"
      ]
     },
     "execution_count": 28,
     "metadata": {},
     "output_type": "execute_result"
    }
   ],
   "source": [
    "new_word"
   ]
  },
  {
   "cell_type": "code",
   "execution_count": 12,
   "id": "82cbd429",
   "metadata": {},
   "outputs": [
    {
     "data": {
      "text/plain": [
       "'test'"
      ]
     },
     "execution_count": 12,
     "metadata": {},
     "output_type": "execute_result"
    }
   ],
   "source": [
    "word"
   ]
  },
  {
   "cell_type": "code",
   "execution_count": 14,
   "id": "31f62a07",
   "metadata": {},
   "outputs": [
    {
     "data": {
      "text/plain": [
       "0"
      ]
     },
     "execution_count": 14,
     "metadata": {},
     "output_type": "execute_result"
    }
   ],
   "source": [
    "word.index('t')"
   ]
  },
  {
   "cell_type": "code",
   "execution_count": 41,
   "id": "346aab28",
   "metadata": {},
   "outputs": [],
   "source": [
    "x = enumerate('abcde')"
   ]
  },
  {
   "cell_type": "code",
   "execution_count": null,
   "id": "81c17702",
   "metadata": {},
   "outputs": [],
   "source": []
  },
  {
   "cell_type": "code",
   "execution_count": 45,
   "id": "2677270b",
   "metadata": {},
   "outputs": [],
   "source": [
    "for i,letter in x:\n",
    "    print(f'at index {i} there is letter {letter}')"
   ]
  },
  {
   "cell_type": "code",
   "execution_count": 53,
   "id": "90706f6e",
   "metadata": {},
   "outputs": [],
   "source": [
    "first_names = ['Aaron','Myron','precious']\n",
    "second_names = ['Mutegeki','Bagonza','Ainekisha']\n",
    "\n",
    "full_names = zip(first_names,second_names)"
   ]
  },
  {
   "cell_type": "code",
   "execution_count": 54,
   "id": "70cb0f40",
   "metadata": {},
   "outputs": [],
   "source": [
    "test  = list(full_names)"
   ]
  },
  {
   "cell_type": "code",
   "execution_count": 55,
   "id": "85c8755b",
   "metadata": {},
   "outputs": [
    {
     "data": {
      "text/plain": [
       "[('Aaron', 'Mutegeki'), ('Myron', 'Bagonza'), ('precious', 'Ainekisha')]"
      ]
     },
     "execution_count": 55,
     "metadata": {},
     "output_type": "execute_result"
    }
   ],
   "source": [
    "test"
   ]
  },
  {
   "cell_type": "code",
   "execution_count": 56,
   "id": "0f81c921",
   "metadata": {},
   "outputs": [
    {
     "data": {
      "text/plain": [
       "('Aaron', 'Mutegeki')"
      ]
     },
     "execution_count": 56,
     "metadata": {},
     "output_type": "execute_result"
    }
   ],
   "source": [
    "test[0]"
   ]
  },
  {
   "cell_type": "code",
   "execution_count": 57,
   "id": "c4d419d3",
   "metadata": {},
   "outputs": [
    {
     "data": {
      "text/plain": [
       "('Myron', 'Bagonza')"
      ]
     },
     "execution_count": 57,
     "metadata": {},
     "output_type": "execute_result"
    }
   ],
   "source": [
    "test[1]"
   ]
  },
  {
   "cell_type": "code",
   "execution_count": 72,
   "id": "05e921a5",
   "metadata": {},
   "outputs": [
    {
     "name": "stdout",
     "output_type": "stream",
     "text": [
      "first    |  second   |    third\n",
      "Aaron    |  Mutegeki |    third\n",
      "Myron    |  Bagonza  |    third\n",
      "precious | Ainekisha |    third\n"
     ]
    }
   ],
   "source": [
    "print(f'{\"first\":<8} | {\"second\":^9} | {\"third\":>8}')\n",
    "for item in test:\n",
    "    print(f'{item[0]:<8} | {item[1]:^10}| {\"third\":>8}')"
   ]
  },
  {
   "cell_type": "code",
   "execution_count": 73,
   "id": "a8542b28",
   "metadata": {},
   "outputs": [],
   "source": [
    "import random"
   ]
  },
  {
   "cell_type": "code",
   "execution_count": 99,
   "id": "268c8a77",
   "metadata": {},
   "outputs": [],
   "source": [
    "test = random.randint(1,3)"
   ]
  },
  {
   "cell_type": "code",
   "execution_count": 100,
   "id": "c2ddab3d",
   "metadata": {},
   "outputs": [
    {
     "data": {
      "text/plain": [
       "1"
      ]
     },
     "execution_count": 100,
     "metadata": {},
     "output_type": "execute_result"
    }
   ],
   "source": [
    "test"
   ]
  },
  {
   "cell_type": "code",
   "execution_count": 149,
   "id": "dbef9f22",
   "metadata": {},
   "outputs": [],
   "source": [
    "import random\n",
    "from random import randint\n",
    "tracker = 0\n",
    "difference = 0\n",
    "new_difference = 0\n",
    "number = randint(1,101)\n",
    "user_choice = None"
   ]
  },
  {
   "cell_type": "code",
   "execution_count": 150,
   "id": "9aefeeb5",
   "metadata": {},
   "outputs": [
    {
     "name": "stdout",
     "output_type": "stream",
     "text": [
      "50\n",
      "Please choose a number: 200\n",
      "Out of bounds!\n",
      "Please choose a number: 50\n",
      "\n",
      "You are correct the number is 50 and it took you 1 rounds to get it right\n"
     ]
    }
   ],
   "source": [
    "print(f'{number:^}')\n",
    "while user_choice != number:\n",
    "    tracker += 1\n",
    "    user_choice = int(input('Please choose a number: '))\n",
    "    # Checking if the number is within the bounds\n",
    "    if user_choice > 100 or user_choice < 1:\n",
    "        print('Out of bounds!')\n",
    "        if tracker == 1:\n",
    "            tracker -= 1\n",
    "        else:\n",
    "            continue\n",
    "    else:\n",
    "        # Finding the difference of the numbers.\n",
    "        new_difference = number - user_choice\n",
    "        if new_difference == 0:\n",
    "            print(f'\\nYou are correct the number is {number} and it took you {tracker} rounds to get it right')\n",
    "        else:\n",
    "            # Checking for the first round!\n",
    "            if tracker == 1:\n",
    "                if abs(new_difference) <= 10:\n",
    "                    print('Warm')\n",
    "                    difference = new_difference\n",
    "                else:\n",
    "                    print('Cold')\n",
    "                    difference = new_difference\n",
    "            else:\n",
    "                if new_difference < difference:\n",
    "                    print('Warmer')\n",
    "                    difference = new_difference\n",
    "                elif new_difference > difference:\n",
    "                    print('Colder')\n",
    "                    difference = new_difference"
   ]
  },
  {
   "cell_type": "code",
   "execution_count": null,
   "id": "e418e2f2",
   "metadata": {},
   "outputs": [],
   "source": []
  },
  {
   "cell_type": "code",
   "execution_count": null,
   "id": "443ffe07",
   "metadata": {},
   "outputs": [],
   "source": []
  }
 ],
 "metadata": {
  "kernelspec": {
   "display_name": "Python 3 (ipykernel)",
   "language": "python",
   "name": "python3"
  },
  "language_info": {
   "codemirror_mode": {
    "name": "ipython",
    "version": 3
   },
   "file_extension": ".py",
   "mimetype": "text/x-python",
   "name": "python",
   "nbconvert_exporter": "python",
   "pygments_lexer": "ipython3",
   "version": "3.11.6"
  }
 },
 "nbformat": 4,
 "nbformat_minor": 5
}
