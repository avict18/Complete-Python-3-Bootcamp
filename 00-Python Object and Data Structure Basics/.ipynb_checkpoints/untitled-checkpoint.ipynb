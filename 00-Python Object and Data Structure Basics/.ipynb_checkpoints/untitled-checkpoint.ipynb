{
 "cells": [
  {
   "cell_type": "code",
   "execution_count": 1,
   "id": "0f5df437",
   "metadata": {},
   "outputs": [],
   "source": [
    "l = 'test'"
   ]
  },
  {
   "cell_type": "code",
   "execution_count": 2,
   "id": "dad72ae3",
   "metadata": {},
   "outputs": [
    {
     "data": {
      "text/plain": [
       "'test'"
      ]
     },
     "execution_count": 2,
     "metadata": {},
     "output_type": "execute_result"
    }
   ],
   "source": [
    "l"
   ]
  },
  {
   "cell_type": "code",
   "execution_count": 3,
   "id": "27678d94",
   "metadata": {},
   "outputs": [],
   "source": [
    "a = 10"
   ]
  },
  {
   "cell_type": "code",
   "execution_count": 4,
   "id": "7b5e1957",
   "metadata": {},
   "outputs": [],
   "source": [
    "a //= 3"
   ]
  },
  {
   "cell_type": "code",
   "execution_count": 5,
   "id": "18afefbc",
   "metadata": {},
   "outputs": [
    {
     "data": {
      "text/plain": [
       "3"
      ]
     },
     "execution_count": 5,
     "metadata": {},
     "output_type": "execute_result"
    }
   ],
   "source": [
    "a"
   ]
  },
  {
   "cell_type": "code",
   "execution_count": 6,
   "id": "59026062",
   "metadata": {},
   "outputs": [],
   "source": [
    "s = 'Aaron'"
   ]
  },
  {
   "cell_type": "code",
   "execution_count": 7,
   "id": "34cfb8b2",
   "metadata": {},
   "outputs": [
    {
     "data": {
      "text/plain": [
       "'Aaron Victor'"
      ]
     },
     "execution_count": 7,
     "metadata": {},
     "output_type": "execute_result"
    }
   ],
   "source": [
    "s + ' Victor'"
   ]
  },
  {
   "cell_type": "code",
   "execution_count": 8,
   "id": "e31420e6",
   "metadata": {},
   "outputs": [
    {
     "data": {
      "text/plain": [
       "'Aaron'"
      ]
     },
     "execution_count": 8,
     "metadata": {},
     "output_type": "execute_result"
    }
   ],
   "source": [
    "s"
   ]
  },
  {
   "cell_type": "code",
   "execution_count": 9,
   "id": "a555904f",
   "metadata": {},
   "outputs": [],
   "source": [
    "s += ' Victor'"
   ]
  },
  {
   "cell_type": "code",
   "execution_count": 10,
   "id": "96a92a94",
   "metadata": {},
   "outputs": [
    {
     "data": {
      "text/plain": [
       "'Aaron Victor'"
      ]
     },
     "execution_count": 10,
     "metadata": {},
     "output_type": "execute_result"
    }
   ],
   "source": [
    "s"
   ]
  },
  {
   "cell_type": "code",
   "execution_count": 20,
   "id": "51d4324e",
   "metadata": {},
   "outputs": [],
   "source": [
    "s = 'aaron victor'"
   ]
  },
  {
   "cell_type": "code",
   "execution_count": 21,
   "id": "847f3742",
   "metadata": {},
   "outputs": [
    {
     "data": {
      "text/plain": [
       "'Aaron victor'"
      ]
     },
     "execution_count": 21,
     "metadata": {},
     "output_type": "execute_result"
    }
   ],
   "source": [
    "s.capitalize()"
   ]
  },
  {
   "cell_type": "code",
   "execution_count": 22,
   "id": "9f33999b",
   "metadata": {},
   "outputs": [
    {
     "data": {
      "text/plain": [
       "'aaron victor'"
      ]
     },
     "execution_count": 22,
     "metadata": {},
     "output_type": "execute_result"
    }
   ],
   "source": [
    "s"
   ]
  },
  {
   "cell_type": "code",
   "execution_count": 23,
   "id": "48c4311a",
   "metadata": {},
   "outputs": [],
   "source": [
    "s = s.capitalize()"
   ]
  },
  {
   "cell_type": "code",
   "execution_count": 24,
   "id": "c082e030",
   "metadata": {},
   "outputs": [
    {
     "data": {
      "text/plain": [
       "'Aaron victor'"
      ]
     },
     "execution_count": 24,
     "metadata": {},
     "output_type": "execute_result"
    }
   ],
   "source": [
    "s"
   ]
  },
  {
   "cell_type": "code",
   "execution_count": 26,
   "id": "3f2e9309",
   "metadata": {},
   "outputs": [
    {
     "name": "stdout",
     "output_type": "stream",
     "text": [
      "My first name is Aaron and my second name is Victor\n"
     ]
    }
   ],
   "source": [
    "x,y = 'aaron','victor'\n",
    "print('My first name is %s and my second name is %s'%(x.capitalize(),y.capitalize()))"
   ]
  },
  {
   "cell_type": "code",
   "execution_count": 27,
   "id": "b6f6997f",
   "metadata": {},
   "outputs": [],
   "source": [
    "number = 3.1415926535897932384626433832795028"
   ]
  },
  {
   "cell_type": "code",
   "execution_count": 28,
   "id": "3efb810c",
   "metadata": {},
   "outputs": [
    {
     "name": "stdout",
     "output_type": "stream",
     "text": [
      "The value of pi is 3.141592653589793 \n",
      "The value of pi is 3 \n"
     ]
    }
   ],
   "source": [
    "print('The value of pi is %s '%number)\n",
    "print('The value of pi is %d '%number)"
   ]
  },
  {
   "cell_type": "code",
   "execution_count": 29,
   "id": "49ed7cbb",
   "metadata": {},
   "outputs": [
    {
     "name": "stdout",
     "output_type": "stream",
     "text": [
      "My name is 'aaron' 'victor'\n"
     ]
    }
   ],
   "source": [
    "print('My name is %r %r'%(x,y))"
   ]
  },
  {
   "cell_type": "code",
   "execution_count": 30,
   "id": "015fd8f6",
   "metadata": {},
   "outputs": [
    {
     "name": "stdout",
     "output_type": "stream",
     "text": [
      "The value of pi is  3.14\n"
     ]
    }
   ],
   "source": [
    "print('The value of pi is %5.2f'%number)"
   ]
  },
  {
   "cell_type": "code",
   "execution_count": 31,
   "id": "888e5f77",
   "metadata": {},
   "outputs": [
    {
     "name": "stdout",
     "output_type": "stream",
     "text": [
      "The value of pi is 3.141592653589793\n"
     ]
    }
   ],
   "source": [
    "print(f'The value of pi is {number}')"
   ]
  },
  {
   "cell_type": "code",
   "execution_count": 34,
   "id": "093885d5",
   "metadata": {},
   "outputs": [
    {
     "name": "stdout",
     "output_type": "stream",
     "text": [
      "The value of pi is 3.14159\n"
     ]
    }
   ],
   "source": [
    "print(f'The value of pi is {number:3.5f}')"
   ]
  },
  {
   "cell_type": "code",
   "execution_count": 38,
   "id": "562b6999",
   "metadata": {},
   "outputs": [
    {
     "name": "stdout",
     "output_type": "stream",
     "text": [
      "First    |  Middle  |     Last\n",
      "\n"
     ]
    }
   ],
   "source": [
    "print('{:<8} | {:^8} | {:>8}'.format('First','Middle','Last'))\n",
    "print()"
   ]
  },
  {
   "cell_type": "code",
   "execution_count": 39,
   "id": "1dfe0e88",
   "metadata": {},
   "outputs": [],
   "source": [
    "first_names = ['Aaron','Myron','Precious','Derick','Rutta']\n",
    "middle_names = ['Victor','Victor','Victor','Juvenali','George']\n",
    "lastname = ['Rugaika']*5"
   ]
  },
  {
   "cell_type": "code",
   "execution_count": 40,
   "id": "c526ee0b",
   "metadata": {},
   "outputs": [
    {
     "data": {
      "text/plain": [
       "['Rugaika', 'Rugaika', 'Rugaika', 'Rugaika', 'Rugaika']"
      ]
     },
     "execution_count": 40,
     "metadata": {},
     "output_type": "execute_result"
    }
   ],
   "source": [
    "lastname"
   ]
  },
  {
   "cell_type": "code",
   "execution_count": 44,
   "id": "47488f1c",
   "metadata": {},
   "outputs": [
    {
     "ename": "ValueError",
     "evalue": "too many values to unpack (expected 3)",
     "output_type": "error",
     "traceback": [
      "\u001b[0;31m---------------------------------------------------------------------------\u001b[0m",
      "\u001b[0;31mValueError\u001b[0m                                Traceback (most recent call last)",
      "Cell \u001b[0;32mIn[44], line 2\u001b[0m\n\u001b[1;32m      1\u001b[0m names \u001b[38;5;241m=\u001b[39m []\n\u001b[0;32m----> 2\u001b[0m \u001b[38;5;28;01mfor\u001b[39;00m x,y,z \u001b[38;5;129;01min\u001b[39;00m first_names,middle_names,lastname:\n\u001b[1;32m      3\u001b[0m     \u001b[38;5;28mprint\u001b[39m(x,y,z)\n",
      "\u001b[0;31mValueError\u001b[0m: too many values to unpack (expected 3)"
     ]
    }
   ],
   "source": [
    "names = []\n",
    "for x,y,z in first_names,middle_names,lastname:\n",
    "    print(x,y,z)"
   ]
  },
  {
   "cell_type": "code",
   "execution_count": 45,
   "id": "7f5a0022",
   "metadata": {},
   "outputs": [],
   "source": [
    "first_names[0] += 'Victor'"
   ]
  },
  {
   "cell_type": "code",
   "execution_count": 46,
   "id": "fba0fe39",
   "metadata": {},
   "outputs": [
    {
     "data": {
      "text/plain": [
       "['AaronVictor', 'Myron', 'Precious', 'Derick', 'Rutta']"
      ]
     },
     "execution_count": 46,
     "metadata": {},
     "output_type": "execute_result"
    }
   ],
   "source": [
    "first_names"
   ]
  },
  {
   "cell_type": "code",
   "execution_count": 47,
   "id": "ceb6d87c",
   "metadata": {},
   "outputs": [
    {
     "name": "stdout",
     "output_type": "stream",
     "text": [
      "\u001b[H\u001b[2J"
     ]
    }
   ],
   "source": [
    "clear"
   ]
  },
  {
   "cell_type": "code",
   "execution_count": 48,
   "id": "236b3216",
   "metadata": {},
   "outputs": [
    {
     "data": {
      "text/plain": [
       "'/home/avict/Documents/programming/Python/courses/Complete-Python-3-Bootcamp/00-Python Object and Data Structure Basics'"
      ]
     },
     "execution_count": 48,
     "metadata": {},
     "output_type": "execute_result"
    }
   ],
   "source": [
    "pwd"
   ]
  },
  {
   "cell_type": "code",
   "execution_count": 49,
   "id": "b77d31b7",
   "metadata": {},
   "outputs": [],
   "source": [
    "new_list = first_names.copy()"
   ]
  },
  {
   "cell_type": "code",
   "execution_count": 50,
   "id": "e8f85312",
   "metadata": {},
   "outputs": [
    {
     "data": {
      "text/plain": [
       "['AaronVictor', 'Myron', 'Precious', 'Derick', 'Rutta']"
      ]
     },
     "execution_count": 50,
     "metadata": {},
     "output_type": "execute_result"
    }
   ],
   "source": [
    "new_list"
   ]
  },
  {
   "cell_type": "code",
   "execution_count": 51,
   "id": "bfa44800",
   "metadata": {},
   "outputs": [],
   "source": [
    "first_names[0] = 'Aaron'"
   ]
  },
  {
   "cell_type": "code",
   "execution_count": 52,
   "id": "ccda2701",
   "metadata": {},
   "outputs": [],
   "source": [
    "name_tuple = ('Aaron')"
   ]
  },
  {
   "cell_type": "code",
   "execution_count": 53,
   "id": "b4d421ff",
   "metadata": {},
   "outputs": [
    {
     "ename": "TypeError",
     "evalue": "'str' object does not support item assignment",
     "output_type": "error",
     "traceback": [
      "\u001b[0;31m---------------------------------------------------------------------------\u001b[0m",
      "\u001b[0;31mTypeError\u001b[0m                                 Traceback (most recent call last)",
      "Cell \u001b[0;32mIn[53], line 1\u001b[0m\n\u001b[0;32m----> 1\u001b[0m \u001b[43mname_tuple\u001b[49m\u001b[43m[\u001b[49m\u001b[38;5;241;43m0\u001b[39;49m\u001b[43m]\u001b[49m \u001b[38;5;241m=\u001b[39m \u001b[38;5;124m'\u001b[39m\u001b[38;5;124mMyron\u001b[39m\u001b[38;5;124m'\u001b[39m\n",
      "\u001b[0;31mTypeError\u001b[0m: 'str' object does not support item assignment"
     ]
    }
   ],
   "source": [
    "name_tuple[0] = 'Myron'"
   ]
  },
  {
   "cell_type": "code",
   "execution_count": 54,
   "id": "3cb124be",
   "metadata": {},
   "outputs": [
    {
     "name": "stdout",
     "output_type": "stream",
     "text": [
      "\u001b[H\u001b[2J"
     ]
    }
   ],
   "source": [
    "clear"
   ]
  },
  {
   "cell_type": "code",
   "execution_count": 55,
   "id": "e0aea2f7",
   "metadata": {},
   "outputs": [],
   "source": [
    "import colorama"
   ]
  },
  {
   "cell_type": "code",
   "execution_count": 56,
   "id": "30ef9edd",
   "metadata": {},
   "outputs": [
    {
     "data": {
      "text/plain": [
       "['Aaron', 'Myron', 'Precious', 'Derick', 'Rutta']"
      ]
     },
     "execution_count": 56,
     "metadata": {},
     "output_type": "execute_result"
    }
   ],
   "source": [
    "first_names"
   ]
  },
  {
   "cell_type": "code",
   "execution_count": 59,
   "id": "0d4de3d8",
   "metadata": {},
   "outputs": [
    {
     "name": "stdout",
     "output_type": "stream",
     "text": [
      "Aaron=== is the son of Victor\n"
     ]
    }
   ],
   "source": [
    "print(f'{first_names[0]:=<8} is the son of {middle_names[0]}')"
   ]
  },
  {
   "cell_type": "code",
   "execution_count": 62,
   "id": "2ed4fc87",
   "metadata": {},
   "outputs": [
    {
     "name": "stdout",
     "output_type": "stream",
     "text": [
      "The value of pi is   3.14159\n"
     ]
    }
   ],
   "source": [
    "print(f'The value of pi is{number:10.6}')"
   ]
  },
  {
   "cell_type": "code",
   "execution_count": 63,
   "id": "8647e420",
   "metadata": {},
   "outputs": [],
   "source": [
    "first_names.reverse()"
   ]
  },
  {
   "cell_type": "code",
   "execution_count": 64,
   "id": "ce9af499",
   "metadata": {},
   "outputs": [
    {
     "data": {
      "text/plain": [
       "['Rutta', 'Derick', 'Precious', 'Myron', 'Aaron']"
      ]
     },
     "execution_count": 64,
     "metadata": {},
     "output_type": "execute_result"
    }
   ],
   "source": [
    "first_names"
   ]
  },
  {
   "cell_type": "code",
   "execution_count": 65,
   "id": "fd1a530b",
   "metadata": {},
   "outputs": [],
   "source": [
    "first_names.sort()"
   ]
  },
  {
   "cell_type": "code",
   "execution_count": 66,
   "id": "aae5ad49",
   "metadata": {},
   "outputs": [
    {
     "data": {
      "text/plain": [
       "['Aaron', 'Derick', 'Myron', 'Precious', 'Rutta']"
      ]
     },
     "execution_count": 66,
     "metadata": {},
     "output_type": "execute_result"
    }
   ],
   "source": [
    "first_names"
   ]
  },
  {
   "cell_type": "code",
   "execution_count": 67,
   "id": "69db357f",
   "metadata": {},
   "outputs": [],
   "source": [
    "popped = first_names.pop(0)"
   ]
  },
  {
   "cell_type": "code",
   "execution_count": 68,
   "id": "f4f46a42",
   "metadata": {},
   "outputs": [
    {
     "data": {
      "text/plain": [
       "'Aaron'"
      ]
     },
     "execution_count": 68,
     "metadata": {},
     "output_type": "execute_result"
    }
   ],
   "source": [
    "popped"
   ]
  },
  {
   "cell_type": "code",
   "execution_count": 70,
   "id": "8cf01cfd",
   "metadata": {},
   "outputs": [],
   "source": [
    "popper = first_names.pop(1)"
   ]
  },
  {
   "cell_type": "code",
   "execution_count": 71,
   "id": "12964f56",
   "metadata": {},
   "outputs": [],
   "source": [
    "first_names.extend([popped,popper])"
   ]
  },
  {
   "cell_type": "code",
   "execution_count": 72,
   "id": "4a289c64",
   "metadata": {},
   "outputs": [],
   "source": [
    "first_names.sort()"
   ]
  },
  {
   "cell_type": "code",
   "execution_count": 73,
   "id": "4d482f8d",
   "metadata": {},
   "outputs": [
    {
     "data": {
      "text/plain": [
       "['Aaron', 'Derick', 'Myron', 'Precious', 'Rutta']"
      ]
     },
     "execution_count": 73,
     "metadata": {},
     "output_type": "execute_result"
    }
   ],
   "source": [
    "first_names"
   ]
  },
  {
   "cell_type": "code",
   "execution_count": 74,
   "id": "e3b85492",
   "metadata": {},
   "outputs": [
    {
     "name": "stdout",
     "output_type": "stream",
     "text": [
      "\u001b[H\u001b[2J"
     ]
    }
   ],
   "source": [
    "clear"
   ]
  },
  {
   "cell_type": "code",
   "execution_count": 75,
   "id": "f297e355",
   "metadata": {},
   "outputs": [
    {
     "name": "stdout",
     "output_type": "stream",
     "text": [
      " 01-Numbers.ipynb\r\n",
      "'01-Variable Assignment.ipynb'\r\n",
      " 02-Strings.ipynb\r\n",
      "'03-Print Formatting with Strings.ipynb'\r\n",
      " 04-Lists.ipynb\r\n",
      " 05-Dictionaries.ipynb\r\n",
      " 06-Tuples.ipynb\r\n",
      "'07-Sets and Booleans.ipynb'\r\n",
      " 08-Files.ipynb\r\n",
      "'09-Objects and Data Structures Assessment Test.ipynb'\r\n",
      "'10-Objects and Data Structures Assessment Test-Solution.ipynb'\r\n",
      " test.txt\r\n",
      " untitled.ipynb\r\n",
      " Untitled.ipynb\r\n"
     ]
    }
   ],
   "source": [
    "ls"
   ]
  },
  {
   "cell_type": "code",
   "execution_count": 76,
   "id": "a7aa21c8",
   "metadata": {},
   "outputs": [
    {
     "data": {
      "text/plain": [
       "<function dir>"
      ]
     },
     "execution_count": 76,
     "metadata": {},
     "output_type": "execute_result"
    }
   ],
   "source": [
    "dir"
   ]
  },
  {
   "cell_type": "code",
   "execution_count": 78,
   "id": "1d5c1abb",
   "metadata": {},
   "outputs": [],
   "source": [
    "#dir()"
   ]
  },
  {
   "cell_type": "code",
   "execution_count": 81,
   "id": "4d1a9630",
   "metadata": {},
   "outputs": [],
   "source": [
    "dictionary = {1,2,3}"
   ]
  },
  {
   "cell_type": "code",
   "execution_count": 82,
   "id": "d15521bd",
   "metadata": {},
   "outputs": [
    {
     "data": {
      "text/plain": [
       "set"
      ]
     },
     "execution_count": 82,
     "metadata": {},
     "output_type": "execute_result"
    }
   ],
   "source": [
    "type(dictionary)"
   ]
  },
  {
   "cell_type": "code",
   "execution_count": 83,
   "id": "597e67a9",
   "metadata": {},
   "outputs": [],
   "source": [
    "set1 = set()"
   ]
  },
  {
   "cell_type": "code",
   "execution_count": 84,
   "id": "da650981",
   "metadata": {},
   "outputs": [
    {
     "data": {
      "text/plain": [
       "set"
      ]
     },
     "execution_count": 84,
     "metadata": {},
     "output_type": "execute_result"
    }
   ],
   "source": [
    "type(set1)"
   ]
  },
  {
   "cell_type": "code",
   "execution_count": 87,
   "id": "3f400590",
   "metadata": {},
   "outputs": [],
   "source": [
    "set1.add('test')"
   ]
  },
  {
   "cell_type": "code",
   "execution_count": null,
   "id": "1f2e4ace",
   "metadata": {},
   "outputs": [],
   "source": []
  }
 ],
 "metadata": {
  "kernelspec": {
   "display_name": "Python 3 (ipykernel)",
   "language": "python",
   "name": "python3"
  },
  "language_info": {
   "codemirror_mode": {
    "name": "ipython",
    "version": 3
   },
   "file_extension": ".py",
   "mimetype": "text/x-python",
   "name": "python",
   "nbconvert_exporter": "python",
   "pygments_lexer": "ipython3",
   "version": "3.11.6"
  }
 },
 "nbformat": 4,
 "nbformat_minor": 5
}
