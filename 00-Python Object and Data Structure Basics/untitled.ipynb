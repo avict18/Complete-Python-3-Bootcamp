{
 "cells": [
  {
   "cell_type": "code",
   "execution_count": 1,
   "id": "d5b9c750",
   "metadata": {},
   "outputs": [],
   "source": [
    "l = 'test'"
   ]
  },
  {
   "cell_type": "code",
   "execution_count": 2,
   "id": "01496ec4",
   "metadata": {},
   "outputs": [
    {
     "data": {
      "text/plain": [
       "'test'"
      ]
     },
     "execution_count": 2,
     "metadata": {},
     "output_type": "execute_result"
    }
   ],
   "source": [
    "l"
   ]
  },
  {
   "cell_type": "code",
   "execution_count": 3,
   "id": "815e3f68",
   "metadata": {},
   "outputs": [],
   "source": [
    "a = 10"
   ]
  },
  {
   "cell_type": "code",
   "execution_count": 4,
   "id": "f14ad2cc",
   "metadata": {},
   "outputs": [],
   "source": [
    "a //= 3"
   ]
  },
  {
   "cell_type": "code",
   "execution_count": 5,
   "id": "d7a986df",
   "metadata": {},
   "outputs": [
    {
     "data": {
      "text/plain": [
       "3"
      ]
     },
     "execution_count": 5,
     "metadata": {},
     "output_type": "execute_result"
    }
   ],
   "source": [
    "a"
   ]
  },
  {
   "cell_type": "code",
   "execution_count": 6,
   "id": "3aa2887a",
   "metadata": {},
   "outputs": [],
   "source": [
    "s = 'Aaron'"
   ]
  },
  {
   "cell_type": "code",
   "execution_count": 7,
   "id": "c75bea5e",
   "metadata": {},
   "outputs": [
    {
     "data": {
      "text/plain": [
       "'Aaron Victor'"
      ]
     },
     "execution_count": 7,
     "metadata": {},
     "output_type": "execute_result"
    }
   ],
   "source": [
    "s + ' Victor'"
   ]
  },
  {
   "cell_type": "code",
   "execution_count": 8,
   "id": "e98553fe",
   "metadata": {},
   "outputs": [
    {
     "data": {
      "text/plain": [
       "'Aaron'"
      ]
     },
     "execution_count": 8,
     "metadata": {},
     "output_type": "execute_result"
    }
   ],
   "source": [
    "s"
   ]
  },
  {
   "cell_type": "code",
   "execution_count": 9,
   "id": "9620a798",
   "metadata": {},
   "outputs": [],
   "source": [
    "s += ' Victor'"
   ]
  },
  {
   "cell_type": "code",
   "execution_count": 10,
   "id": "f568260f",
   "metadata": {},
   "outputs": [
    {
     "data": {
      "text/plain": [
       "'Aaron Victor'"
      ]
     },
     "execution_count": 10,
     "metadata": {},
     "output_type": "execute_result"
    }
   ],
   "source": [
    "s"
   ]
  },
  {
   "cell_type": "code",
   "execution_count": 20,
   "id": "1c3c2bd4",
   "metadata": {},
   "outputs": [],
   "source": [
    "s = 'aaron victor'"
   ]
  },
  {
   "cell_type": "code",
   "execution_count": 21,
   "id": "1e1ce78d",
   "metadata": {},
   "outputs": [
    {
     "data": {
      "text/plain": [
       "'Aaron victor'"
      ]
     },
     "execution_count": 21,
     "metadata": {},
     "output_type": "execute_result"
    }
   ],
   "source": [
    "s.capitalize()"
   ]
  },
  {
   "cell_type": "code",
   "execution_count": 22,
   "id": "8a1e1b06",
   "metadata": {},
   "outputs": [
    {
     "data": {
      "text/plain": [
       "'aaron victor'"
      ]
     },
     "execution_count": 22,
     "metadata": {},
     "output_type": "execute_result"
    }
   ],
   "source": [
    "s"
   ]
  },
  {
   "cell_type": "code",
   "execution_count": 23,
   "id": "d7482059",
   "metadata": {},
   "outputs": [],
   "source": [
    "s = s.capitalize()"
   ]
  },
  {
   "cell_type": "code",
   "execution_count": 24,
   "id": "4adac8fc",
   "metadata": {},
   "outputs": [
    {
     "data": {
      "text/plain": [
       "'Aaron victor'"
      ]
     },
     "execution_count": 24,
     "metadata": {},
     "output_type": "execute_result"
    }
   ],
   "source": [
    "s"
   ]
  },
  {
   "cell_type": "code",
   "execution_count": 26,
   "id": "4e21532c",
   "metadata": {},
   "outputs": [
    {
     "name": "stdout",
     "output_type": "stream",
     "text": [
      "My first name is Aaron and my second name is Victor\n"
     ]
    }
   ],
   "source": [
    "x,y = 'aaron','victor'\n",
    "print('My first name is %s and my second name is %s'%(x.capitalize(),y.capitalize()))"
   ]
  },
  {
   "cell_type": "code",
   "execution_count": 27,
   "id": "a41e735e",
   "metadata": {},
   "outputs": [],
   "source": [
    "number = 3.1415926535897932384626433832795028"
   ]
  },
  {
   "cell_type": "code",
   "execution_count": 28,
   "id": "e26f8168",
   "metadata": {},
   "outputs": [
    {
     "name": "stdout",
     "output_type": "stream",
     "text": [
      "The value of pi is 3.141592653589793 \n",
      "The value of pi is 3 \n"
     ]
    }
   ],
   "source": [
    "print('The value of pi is %s '%number)\n",
    "print('The value of pi is %d '%number)"
   ]
  },
  {
   "cell_type": "code",
   "execution_count": 29,
   "id": "83a24e96",
   "metadata": {},
   "outputs": [
    {
     "name": "stdout",
     "output_type": "stream",
     "text": [
      "My name is 'aaron' 'victor'\n"
     ]
    }
   ],
   "source": [
    "print('My name is %r %r'%(x,y))"
   ]
  },
  {
   "cell_type": "code",
   "execution_count": 30,
   "id": "71f094e2",
   "metadata": {},
   "outputs": [
    {
     "name": "stdout",
     "output_type": "stream",
     "text": [
      "The value of pi is  3.14\n"
     ]
    }
   ],
   "source": [
    "print('The value of pi is %5.2f'%number)"
   ]
  },
  {
   "cell_type": "code",
   "execution_count": 31,
   "id": "9fc08489",
   "metadata": {},
   "outputs": [
    {
     "name": "stdout",
     "output_type": "stream",
     "text": [
      "The value of pi is 3.141592653589793\n"
     ]
    }
   ],
   "source": [
    "print(f'The value of pi is {number}')"
   ]
  },
  {
   "cell_type": "code",
   "execution_count": 34,
   "id": "b51c4022",
   "metadata": {},
   "outputs": [
    {
     "name": "stdout",
     "output_type": "stream",
     "text": [
      "The value of pi is 3.14159\n"
     ]
    }
   ],
   "source": [
    "print(f'The value of pi is {number:3.5f}')"
   ]
  },
  {
   "cell_type": "code",
   "execution_count": 38,
   "id": "2ce0c64f",
   "metadata": {},
   "outputs": [
    {
     "name": "stdout",
     "output_type": "stream",
     "text": [
      "First    |  Middle  |     Last\n",
      "\n"
     ]
    }
   ],
   "source": [
    "print('{:<8} | {:^8} | {:>8}'.format('First','Middle','Last'))\n",
    "print()"
   ]
  },
  {
   "cell_type": "code",
   "execution_count": 39,
   "id": "707ce306",
   "metadata": {},
   "outputs": [],
   "source": [
    "first_names = ['Aaron','Myron','Precious','Derick','Rutta']\n",
    "middle_names = ['Victor','Victor','Victor','Juvenali','George']\n",
    "lastname = ['Rugaika']*5"
   ]
  },
  {
   "cell_type": "code",
   "execution_count": 40,
   "id": "e3d61d1d",
   "metadata": {},
   "outputs": [
    {
     "data": {
      "text/plain": [
       "['Rugaika', 'Rugaika', 'Rugaika', 'Rugaika', 'Rugaika']"
      ]
     },
     "execution_count": 40,
     "metadata": {},
     "output_type": "execute_result"
    }
   ],
   "source": [
    "lastname"
   ]
  },
  {
   "cell_type": "code",
   "execution_count": 44,
   "id": "b361346e",
   "metadata": {},
   "outputs": [
    {
     "ename": "ValueError",
     "evalue": "too many values to unpack (expected 3)",
     "output_type": "error",
     "traceback": [
      "\u001b[0;31m---------------------------------------------------------------------------\u001b[0m",
      "\u001b[0;31mValueError\u001b[0m                                Traceback (most recent call last)",
      "Cell \u001b[0;32mIn[44], line 2\u001b[0m\n\u001b[1;32m      1\u001b[0m names \u001b[38;5;241m=\u001b[39m []\n\u001b[0;32m----> 2\u001b[0m \u001b[38;5;28;01mfor\u001b[39;00m x,y,z \u001b[38;5;129;01min\u001b[39;00m first_names,middle_names,lastname:\n\u001b[1;32m      3\u001b[0m     \u001b[38;5;28mprint\u001b[39m(x,y,z)\n",
      "\u001b[0;31mValueError\u001b[0m: too many values to unpack (expected 3)"
     ]
    }
   ],
   "source": [
    "names = []\n",
    "for x,y,z in first_names,middle_names,lastname:\n",
    "    print(x,y,z)"
   ]
  },
  {
   "cell_type": "code",
   "execution_count": 45,
   "id": "0ee0ed50",
   "metadata": {},
   "outputs": [],
   "source": [
    "first_names[0] += 'Victor'"
   ]
  },
  {
   "cell_type": "code",
   "execution_count": 46,
   "id": "b17649fe",
   "metadata": {},
   "outputs": [
    {
     "data": {
      "text/plain": [
       "['AaronVictor', 'Myron', 'Precious', 'Derick', 'Rutta']"
      ]
     },
     "execution_count": 46,
     "metadata": {},
     "output_type": "execute_result"
    }
   ],
   "source": [
    "first_names"
   ]
  },
  {
   "cell_type": "code",
   "execution_count": 47,
   "id": "3f190f21",
   "metadata": {},
   "outputs": [
    {
     "name": "stdout",
     "output_type": "stream",
     "text": [
      "\u001b[H\u001b[2J"
     ]
    }
   ],
   "source": [
    "clear"
   ]
  },
  {
   "cell_type": "code",
   "execution_count": 48,
   "id": "23fec693",
   "metadata": {},
   "outputs": [
    {
     "data": {
      "text/plain": [
       "'/home/avict/Documents/programming/Python/courses/Complete-Python-3-Bootcamp/00-Python Object and Data Structure Basics'"
      ]
     },
     "execution_count": 48,
     "metadata": {},
     "output_type": "execute_result"
    }
   ],
   "source": [
    "pwd"
   ]
  },
  {
   "cell_type": "code",
   "execution_count": 49,
   "id": "2c7595c4",
   "metadata": {},
   "outputs": [],
   "source": [
    "new_list = first_names.copy()"
   ]
  },
  {
   "cell_type": "code",
   "execution_count": 50,
   "id": "da64cf95",
   "metadata": {},
   "outputs": [
    {
     "data": {
      "text/plain": [
       "['AaronVictor', 'Myron', 'Precious', 'Derick', 'Rutta']"
      ]
     },
     "execution_count": 50,
     "metadata": {},
     "output_type": "execute_result"
    }
   ],
   "source": [
    "new_list"
   ]
  },
  {
   "cell_type": "code",
   "execution_count": 51,
   "id": "768dbc26",
   "metadata": {},
   "outputs": [],
   "source": [
    "first_names[0] = 'Aaron'"
   ]
  },
  {
   "cell_type": "code",
   "execution_count": 52,
   "id": "0f528158",
   "metadata": {},
   "outputs": [],
   "source": [
    "name_tuple = ('Aaron')"
   ]
  },
  {
   "cell_type": "code",
   "execution_count": 53,
   "id": "98acc84e",
   "metadata": {},
   "outputs": [
    {
     "ename": "TypeError",
     "evalue": "'str' object does not support item assignment",
     "output_type": "error",
     "traceback": [
      "\u001b[0;31m---------------------------------------------------------------------------\u001b[0m",
      "\u001b[0;31mTypeError\u001b[0m                                 Traceback (most recent call last)",
      "Cell \u001b[0;32mIn[53], line 1\u001b[0m\n\u001b[0;32m----> 1\u001b[0m \u001b[43mname_tuple\u001b[49m\u001b[43m[\u001b[49m\u001b[38;5;241;43m0\u001b[39;49m\u001b[43m]\u001b[49m \u001b[38;5;241m=\u001b[39m \u001b[38;5;124m'\u001b[39m\u001b[38;5;124mMyron\u001b[39m\u001b[38;5;124m'\u001b[39m\n",
      "\u001b[0;31mTypeError\u001b[0m: 'str' object does not support item assignment"
     ]
    }
   ],
   "source": [
    "name_tuple[0] = 'Myron'"
   ]
  },
  {
   "cell_type": "code",
   "execution_count": 54,
   "id": "7917753c",
   "metadata": {},
   "outputs": [
    {
     "name": "stdout",
     "output_type": "stream",
     "text": [
      "\u001b[H\u001b[2J"
     ]
    }
   ],
   "source": [
    "clear"
   ]
  },
  {
   "cell_type": "code",
   "execution_count": 55,
   "id": "565b7d89",
   "metadata": {},
   "outputs": [],
   "source": [
    "import colorama"
   ]
  },
  {
   "cell_type": "code",
   "execution_count": 56,
   "id": "e75bbe26",
   "metadata": {},
   "outputs": [
    {
     "data": {
      "text/plain": [
       "['Aaron', 'Myron', 'Precious', 'Derick', 'Rutta']"
      ]
     },
     "execution_count": 56,
     "metadata": {},
     "output_type": "execute_result"
    }
   ],
   "source": [
    "first_names"
   ]
  },
  {
   "cell_type": "code",
   "execution_count": 59,
   "id": "f9c0510e",
   "metadata": {},
   "outputs": [
    {
     "name": "stdout",
     "output_type": "stream",
     "text": [
      "Aaron=== is the son of Victor\n"
     ]
    }
   ],
   "source": [
    "print(f'{first_names[0]:=<8} is the son of {middle_names[0]}')"
   ]
  },
  {
   "cell_type": "code",
   "execution_count": 62,
   "id": "b186c9f1",
   "metadata": {},
   "outputs": [
    {
     "name": "stdout",
     "output_type": "stream",
     "text": [
      "The value of pi is   3.14159\n"
     ]
    }
   ],
   "source": [
    "print(f'The value of pi is{number:10.6}')"
   ]
  },
  {
   "cell_type": "code",
   "execution_count": 63,
   "id": "a6ca810b",
   "metadata": {},
   "outputs": [],
   "source": [
    "first_names.reverse()"
   ]
  },
  {
   "cell_type": "code",
   "execution_count": 64,
   "id": "e30efde5",
   "metadata": {},
   "outputs": [
    {
     "data": {
      "text/plain": [
       "['Rutta', 'Derick', 'Precious', 'Myron', 'Aaron']"
      ]
     },
     "execution_count": 64,
     "metadata": {},
     "output_type": "execute_result"
    }
   ],
   "source": [
    "first_names"
   ]
  },
  {
   "cell_type": "code",
   "execution_count": 65,
   "id": "b603c9fb",
   "metadata": {},
   "outputs": [],
   "source": [
    "first_names.sort()"
   ]
  },
  {
   "cell_type": "code",
   "execution_count": 66,
   "id": "36ef6c28",
   "metadata": {},
   "outputs": [
    {
     "data": {
      "text/plain": [
       "['Aaron', 'Derick', 'Myron', 'Precious', 'Rutta']"
      ]
     },
     "execution_count": 66,
     "metadata": {},
     "output_type": "execute_result"
    }
   ],
   "source": [
    "first_names"
   ]
  },
  {
   "cell_type": "code",
   "execution_count": 67,
   "id": "b2087a97",
   "metadata": {},
   "outputs": [],
   "source": [
    "popped = first_names.pop(0)"
   ]
  },
  {
   "cell_type": "code",
   "execution_count": 68,
   "id": "9fed50d3",
   "metadata": {},
   "outputs": [
    {
     "data": {
      "text/plain": [
       "'Aaron'"
      ]
     },
     "execution_count": 68,
     "metadata": {},
     "output_type": "execute_result"
    }
   ],
   "source": [
    "popped"
   ]
  },
  {
   "cell_type": "code",
   "execution_count": 70,
   "id": "3e8f6da8",
   "metadata": {},
   "outputs": [],
   "source": [
    "popper = first_names.pop(1)"
   ]
  },
  {
   "cell_type": "code",
   "execution_count": 71,
   "id": "f65c950b",
   "metadata": {},
   "outputs": [],
   "source": [
    "first_names.extend([popped,popper])"
   ]
  },
  {
   "cell_type": "code",
   "execution_count": 72,
   "id": "61b2c21b",
   "metadata": {},
   "outputs": [],
   "source": [
    "first_names.sort()"
   ]
  },
  {
   "cell_type": "code",
   "execution_count": 73,
   "id": "3bfcaf65",
   "metadata": {},
   "outputs": [
    {
     "data": {
      "text/plain": [
       "['Aaron', 'Derick', 'Myron', 'Precious', 'Rutta']"
      ]
     },
     "execution_count": 73,
     "metadata": {},
     "output_type": "execute_result"
    }
   ],
   "source": [
    "first_names"
   ]
  },
  {
   "cell_type": "code",
   "execution_count": 74,
   "id": "72eaa21e",
   "metadata": {},
   "outputs": [
    {
     "name": "stdout",
     "output_type": "stream",
     "text": [
      "\u001b[H\u001b[2J"
     ]
    }
   ],
   "source": [
    "clear"
   ]
  },
  {
   "cell_type": "code",
   "execution_count": 75,
   "id": "239bb214",
   "metadata": {},
   "outputs": [
    {
     "name": "stdout",
     "output_type": "stream",
     "text": [
      " 01-Numbers.ipynb\r\n",
      "'01-Variable Assignment.ipynb'\r\n",
      " 02-Strings.ipynb\r\n",
      "'03-Print Formatting with Strings.ipynb'\r\n",
      " 04-Lists.ipynb\r\n",
      " 05-Dictionaries.ipynb\r\n",
      " 06-Tuples.ipynb\r\n",
      "'07-Sets and Booleans.ipynb'\r\n",
      " 08-Files.ipynb\r\n",
      "'09-Objects and Data Structures Assessment Test.ipynb'\r\n",
      "'10-Objects and Data Structures Assessment Test-Solution.ipynb'\r\n",
      " test.txt\r\n",
      " untitled.ipynb\r\n",
      " Untitled.ipynb\r\n"
     ]
    }
   ],
   "source": [
    "ls"
   ]
  },
  {
   "cell_type": "code",
   "execution_count": 76,
   "id": "cfcb0945",
   "metadata": {},
   "outputs": [
    {
     "data": {
      "text/plain": [
       "<function dir>"
      ]
     },
     "execution_count": 76,
     "metadata": {},
     "output_type": "execute_result"
    }
   ],
   "source": [
    "dir"
   ]
  },
  {
   "cell_type": "code",
   "execution_count": 78,
   "id": "204ae4be",
   "metadata": {},
   "outputs": [],
   "source": [
    "#dir()"
   ]
  },
  {
   "cell_type": "code",
   "execution_count": 81,
   "id": "e8b2d692",
   "metadata": {},
   "outputs": [],
   "source": [
    "dictionary = {1,2,3}"
   ]
  },
  {
   "cell_type": "code",
   "execution_count": 82,
   "id": "66fba58d",
   "metadata": {},
   "outputs": [
    {
     "data": {
      "text/plain": [
       "set"
      ]
     },
     "execution_count": 82,
     "metadata": {},
     "output_type": "execute_result"
    }
   ],
   "source": [
    "type(dictionary)"
   ]
  },
  {
   "cell_type": "code",
   "execution_count": 83,
   "id": "4dc942e9",
   "metadata": {},
   "outputs": [],
   "source": [
    "set1 = set()"
   ]
  },
  {
   "cell_type": "code",
   "execution_count": 84,
   "id": "31787a89",
   "metadata": {},
   "outputs": [
    {
     "data": {
      "text/plain": [
       "set"
      ]
     },
     "execution_count": 84,
     "metadata": {},
     "output_type": "execute_result"
    }
   ],
   "source": [
    "type(set1)"
   ]
  },
  {
   "cell_type": "code",
   "execution_count": 87,
   "id": "818d9abf",
   "metadata": {},
   "outputs": [],
   "source": [
    "set1.add('test')"
   ]
  },
  {
   "cell_type": "code",
   "execution_count": 88,
   "id": "5c5c013d",
   "metadata": {},
   "outputs": [
    {
     "data": {
      "text/plain": [
       "{'test'}"
      ]
     },
     "execution_count": 88,
     "metadata": {},
     "output_type": "execute_result"
    }
   ],
   "source": [
    "set1"
   ]
  },
  {
   "cell_type": "code",
   "execution_count": 91,
   "id": "fa831043",
   "metadata": {},
   "outputs": [],
   "source": [
    "with open('test.txt','r') as test:\n",
    "    text = test.read()\n",
    "    test.seek(0)\n",
    "    text2 = test.read()"
   ]
  },
  {
   "cell_type": "code",
   "execution_count": 92,
   "id": "09d99e6d",
   "metadata": {},
   "outputs": [
    {
     "data": {
      "text/plain": [
       "'First Line\\nSecond Line'"
      ]
     },
     "execution_count": 92,
     "metadata": {},
     "output_type": "execute_result"
    }
   ],
   "source": [
    "text"
   ]
  },
  {
   "cell_type": "code",
   "execution_count": 93,
   "id": "6f2771f2",
   "metadata": {},
   "outputs": [
    {
     "name": "stdout",
     "output_type": "stream",
     "text": [
      "First Line\n",
      "Second Line\n"
     ]
    }
   ],
   "source": [
    "print(text)"
   ]
  },
  {
   "cell_type": "code",
   "execution_count": null,
   "id": "6c3b3503",
   "metadata": {},
   "outputs": [],
   "source": []
  }
 ],
 "metadata": {
  "kernelspec": {
   "display_name": "Python 3 (ipykernel)",
   "language": "python",
   "name": "python3"
  },
  "language_info": {
   "codemirror_mode": {
    "name": "ipython",
    "version": 3
   },
   "file_extension": ".py",
   "mimetype": "text/x-python",
   "name": "python",
   "nbconvert_exporter": "python",
   "pygments_lexer": "ipython3",
   "version": "3.11.6"
  }
 },
 "nbformat": 4,
 "nbformat_minor": 5
}
